{
 "cells": [
  {
   "cell_type": "code",
   "execution_count": 2,
   "metadata": {},
   "outputs": [
    {
     "data": {
      "text/html": [
       "<style>\n",
       ".output {\n",
       "    font-size:18pt !important;\n",
       "}\n",
       ".prompt {\n",
       "    min-width:unset !important;\n",
       "}\n",
       ".output_subarea {\n",
       "    overflow-x:unset !important;\n",
       "}\n",
       ".MathJax {\n",
       "    font-size: 1.0em;\n",
       "}\n",
       "</style>\n"
      ],
      "text/plain": [
       "<IPython.core.display.HTML object>"
      ]
     },
     "metadata": {},
     "output_type": "display_data"
    }
   ],
   "source": [
    "%%html\n",
    "<style>\n",
    ".output {\n",
    "    font-size:18pt !important;\n",
    "}\n",
    ".prompt {\n",
    "    min-width:unset !important;\n",
    "}\n",
    ".output_subarea {\n",
    "    overflow-x:unset !important;\n",
    "}\n",
    ".MathJax {\n",
    "    font-size: 1.0em;\n",
    "}\n",
    "</style>"
   ]
  },
  {
   "cell_type": "code",
   "execution_count": 3,
   "metadata": {
    "slideshow": {
     "slide_type": "fragment"
    }
   },
   "outputs": [
    {
     "data": {
      "text/latex": [
       "$\\displaystyle \\left[\\begin{matrix}- \\frac{\\lambda_{c} x_{0} x_{3}}{K_{c} - x_{2} + 1} + x_{0}^{\\frac{3}{4}} \\left(1 - \\sqrt[4]{\\frac{x_{0}}{C_{0}}}\\right) \\left(k_{c} + \\mu_{c} x_{1}\\right)\\\\- \\lambda_{p} x_{1} + x_{1} \\left(1 - \\frac{x_{1}}{P_{0}}\\right) \\left(k_{p} + \\frac{\\mu_{p} x_{0}}{K_{p} + x_{0}}\\right)\\\\k_{r} - x_{2} \\left(\\gamma_{c} x_{0} + \\gamma_{p} x_{1} + \\lambda_{r}\\right)\\\\\\frac{k_{t} x_{2}}{K_{t} - x_{2} + 1} - \\lambda_{t} x_{3}\\end{matrix}\\right]$"
      ],
      "text/plain": [
       "Matrix([\n",
       "[-lambda_c*x_0*x_3/(K_c - x_2 + 1) + x_0**(3/4)*(1 - (x_0/C_0)**(1/4))*(k_c + mu_c*x_1)],\n",
       "[                        -lambda_p*x_1 + x_1*(1 - x_1/P_0)*(k_p + mu_p*x_0/(K_p + x_0))],\n",
       "[                                      k_r - x_2*(gamma_c*x_0 + gamma_p*x_1 + lambda_r)],\n",
       "[                                                k_t*x_2/(K_t - x_2 + 1) - lambda_t*x_3]])"
      ]
     },
     "metadata": {},
     "output_type": "display_data"
    }
   ],
   "source": [
    "from res import *\n",
    "#from sympy.interactive import printing\n",
    "#printing.init_printing(use_latex=True)\n",
    "\n",
    "# import sys\n",
    "# sys.path.append('../')\n",
    "\n",
    "## main ##\n",
    "\n",
    "x = sp.symarray('x', 4)\n",
    "\n",
    "#C, P, R, T == x[0], x[1], x[2], x[3] respectively\n",
    "\n",
    "#equation parameters\n",
    "k_c, mu_c,     C_0,     lambda_c, K_c      = sp.symbols(\"k_c, mu_c, C_0, lambda_c, K_c\")\n",
    "k_p, mu_p,     K_p,     P_0,      lambda_p = sp.symbols(\"k_p, mu_p, K_p, P_0, lambda_p\")\n",
    "k_r, lambda_r, gamma_p, gamma_c            = sp.symbols(\"k_r, lambda_r, gamma_p, gamma_c\")\n",
    "k_t, K_t,      lambda_t                    = sp.symbols(\"k_t, K_t, lambda_t\")\n",
    "\n",
    "F = sp.Matrix([\n",
    "    (k_c + mu_c*x[1])*x[0]**(xpr(\"3/4\"))*(1 - (x[0]/C_0)**xpr(\"1/4\")) - \\\n",
    "        (lambda_c*x[0]*x[3])/(K_c + (1 - x[2])),\n",
    "    (k_p + (mu_p*x[0])/(K_p + x[0]))*x[1]*(1 - x[1]/P_0) - lambda_p*x[1],\n",
    "    k_r - (lambda_r + gamma_p*x[1] + gamma_c*x[0])*x[2],\n",
    "    (k_t*x[2])/(K_t + (1 - x[2])) - lambda_t*x[3]\n",
    "])\n",
    "\n",
    "display(F)"
   ]
  },
  {
   "cell_type": "code",
   "execution_count": 4,
   "metadata": {},
   "outputs": [],
   "source": [
    "# lala = sp.nsimplify(F[0], rational=True)\n",
    "# display(lala)"
   ]
  },
  {
   "cell_type": "code",
   "execution_count": 5,
   "metadata": {},
   "outputs": [
    {
     "data": {
      "text/markdown": [
       "Докажем инвариантность первого октанта, для этого рассмотрим отдельно все координатные плоскости.\n",
       "\n",
       "Положим $x_0 = 0:$\n"
      ],
      "text/plain": [
       "<IPython.core.display.Markdown object>"
      ]
     },
     "metadata": {},
     "output_type": "display_data"
    }
   ],
   "source": [
    "%%markdown\n",
    "Докажем инвариантность первого октанта, для этого рассмотрим отдельно все координатные плоскости.\n",
    "\n",
    "Положим $x_0 = 0:$"
   ]
  },
  {
   "cell_type": "code",
   "execution_count": 6,
   "metadata": {
    "scrolled": true
   },
   "outputs": [
    {
     "data": {
      "text/latex": [
       "$\\displaystyle \\left[\\begin{matrix}0\\\\k_{p} x_{1} \\left(1 - \\frac{x_{1}}{P_{0}}\\right) - \\lambda_{p} x_{1}\\\\k_{r} - x_{2} \\left(\\gamma_{p} x_{1} + \\lambda_{r}\\right)\\\\\\frac{k_{t} x_{2}}{K_{t} - x_{2} + 1} - \\lambda_{t} x_{3}\\end{matrix}\\right]$"
      ],
      "text/plain": [
       "Matrix([\n",
       "[                                     0],\n",
       "[  k_p*x_1*(1 - x_1/P_0) - lambda_p*x_1],\n",
       "[    k_r - x_2*(gamma_p*x_1 + lambda_r)],\n",
       "[k_t*x_2/(K_t - x_2 + 1) - lambda_t*x_3]])"
      ]
     },
     "metadata": {},
     "output_type": "display_data"
    }
   ],
   "source": [
    "F_new = F.subs(x[0], 0)\n",
    "display(F_new)"
   ]
  },
  {
   "cell_type": "code",
   "execution_count": 7,
   "metadata": {},
   "outputs": [
    {
     "data": {
      "text/markdown": [
       "$x_1 = 0:$\n"
      ],
      "text/plain": [
       "<IPython.core.display.Markdown object>"
      ]
     },
     "metadata": {},
     "output_type": "display_data"
    }
   ],
   "source": [
    "%%markdown\n",
    "$x_1 = 0:$"
   ]
  },
  {
   "cell_type": "code",
   "execution_count": 8,
   "metadata": {},
   "outputs": [
    {
     "data": {
      "text/latex": [
       "$\\displaystyle \\left[\\begin{matrix}k_{c} x_{0}^{\\frac{3}{4}} \\left(1 - \\sqrt[4]{\\frac{x_{0}}{C_{0}}}\\right) - \\frac{\\lambda_{c} x_{0} x_{3}}{K_{c} - x_{2} + 1}\\\\0\\\\k_{r} - x_{2} \\left(\\gamma_{c} x_{0} + \\lambda_{r}\\right)\\\\\\frac{k_{t} x_{2}}{K_{t} - x_{2} + 1} - \\lambda_{t} x_{3}\\end{matrix}\\right]$"
      ],
      "text/plain": [
       "Matrix([\n",
       "[k_c*x_0**(3/4)*(1 - (x_0/C_0)**(1/4)) - lambda_c*x_0*x_3/(K_c - x_2 + 1)],\n",
       "[                                                                       0],\n",
       "[                                      k_r - x_2*(gamma_c*x_0 + lambda_r)],\n",
       "[                                  k_t*x_2/(K_t - x_2 + 1) - lambda_t*x_3]])"
      ]
     },
     "metadata": {},
     "output_type": "display_data"
    }
   ],
   "source": [
    "F_new = F.subs(x[1], 0)\n",
    "display(F_new)"
   ]
  },
  {
   "cell_type": "code",
   "execution_count": 9,
   "metadata": {},
   "outputs": [
    {
     "data": {
      "text/markdown": [
       "$x_2 = 0:$\n"
      ],
      "text/plain": [
       "<IPython.core.display.Markdown object>"
      ]
     },
     "metadata": {},
     "output_type": "display_data"
    }
   ],
   "source": [
    "%%markdown\n",
    "$x_2 = 0:$"
   ]
  },
  {
   "cell_type": "code",
   "execution_count": 10,
   "metadata": {},
   "outputs": [
    {
     "data": {
      "text/latex": [
       "$\\displaystyle \\left[\\begin{matrix}- \\frac{\\lambda_{c} x_{0} x_{3}}{K_{c} + 1} + x_{0}^{\\frac{3}{4}} \\left(1 - \\sqrt[4]{\\frac{x_{0}}{C_{0}}}\\right) \\left(k_{c} + \\mu_{c} x_{1}\\right)\\\\- \\lambda_{p} x_{1} + x_{1} \\left(1 - \\frac{x_{1}}{P_{0}}\\right) \\left(k_{p} + \\frac{\\mu_{p} x_{0}}{K_{p} + x_{0}}\\right)\\\\k_{r}\\\\- \\lambda_{t} x_{3}\\end{matrix}\\right]$"
      ],
      "text/plain": [
       "Matrix([\n",
       "[-lambda_c*x_0*x_3/(K_c + 1) + x_0**(3/4)*(1 - (x_0/C_0)**(1/4))*(k_c + mu_c*x_1)],\n",
       "[                  -lambda_p*x_1 + x_1*(1 - x_1/P_0)*(k_p + mu_p*x_0/(K_p + x_0))],\n",
       "[                                                                             k_r],\n",
       "[                                                                   -lambda_t*x_3]])"
      ]
     },
     "metadata": {},
     "output_type": "display_data"
    }
   ],
   "source": [
    "F_new = F.subs(x[2], 0)\n",
    "display(F_new)"
   ]
  },
  {
   "cell_type": "code",
   "execution_count": 11,
   "metadata": {},
   "outputs": [
    {
     "data": {
      "text/markdown": [
       "$x_3 = 0:$\n"
      ],
      "text/plain": [
       "<IPython.core.display.Markdown object>"
      ]
     },
     "metadata": {},
     "output_type": "display_data"
    }
   ],
   "source": [
    "%%markdown\n",
    "$x_3 = 0:$"
   ]
  },
  {
   "cell_type": "code",
   "execution_count": 12,
   "metadata": {},
   "outputs": [
    {
     "data": {
      "text/latex": [
       "$\\displaystyle \\left[\\begin{matrix}x_{0}^{\\frac{3}{4}} \\left(1 - \\sqrt[4]{\\frac{x_{0}}{C_{0}}}\\right) \\left(k_{c} + \\mu_{c} x_{1}\\right)\\\\- \\lambda_{p} x_{1} + x_{1} \\left(1 - \\frac{x_{1}}{P_{0}}\\right) \\left(k_{p} + \\frac{\\mu_{p} x_{0}}{K_{p} + x_{0}}\\right)\\\\k_{r} - x_{2} \\left(\\gamma_{c} x_{0} + \\gamma_{p} x_{1} + \\lambda_{r}\\right)\\\\\\frac{k_{t} x_{2}}{K_{t} - x_{2} + 1}\\end{matrix}\\right]$"
      ],
      "text/plain": [
       "Matrix([\n",
       "[            x_0**(3/4)*(1 - (x_0/C_0)**(1/4))*(k_c + mu_c*x_1)],\n",
       "[-lambda_p*x_1 + x_1*(1 - x_1/P_0)*(k_p + mu_p*x_0/(K_p + x_0))],\n",
       "[              k_r - x_2*(gamma_c*x_0 + gamma_p*x_1 + lambda_r)],\n",
       "[                                       k_t*x_2/(K_t - x_2 + 1)]])"
      ]
     },
     "metadata": {},
     "output_type": "display_data"
    }
   ],
   "source": [
    "F_new = F.subs(x[3], 0)\n",
    "display(F_new)"
   ]
  },
  {
   "cell_type": "code",
   "execution_count": 13,
   "metadata": {},
   "outputs": [
    {
     "data": {
      "text/markdown": [
       "----------------------------------------------\n",
       "---------------------------------------------\n",
       "Пока что оставим этот вопрос и попробуем найти положение равновесия:\n"
      ],
      "text/plain": [
       "<IPython.core.display.Markdown object>"
      ]
     },
     "metadata": {},
     "output_type": "display_data"
    }
   ],
   "source": [
    "%%markdown\n",
    "----------------------------------------------\n",
    "---------------------------------------------\n",
    "Пока что оставим этот вопрос и попробуем найти положение равновесия:"
   ]
  },
  {
   "cell_type": "code",
   "execution_count": 14,
   "metadata": {},
   "outputs": [
    {
     "data": {
      "text/latex": [
       "$\\displaystyle \\left[\\begin{matrix}- \\frac{\\lambda_{c} x_{0} x_{3}}{K_{c} - x_{2} + 1} + x_{0}^{\\frac{3}{4}} \\left(1 - \\sqrt[4]{\\frac{x_{0}}{C_{0}}}\\right) \\left(k_{c} + \\mu_{c} x_{1}\\right) = 0\\\\- \\lambda_{p} x_{1} + x_{1} \\left(1 - \\frac{x_{1}}{P_{0}}\\right) \\left(k_{p} + \\frac{\\mu_{p} x_{0}}{K_{p} + x_{0}}\\right) = 0\\\\k_{r} - x_{2} \\left(\\gamma_{c} x_{0} + \\gamma_{p} x_{1} + \\lambda_{r}\\right) = 0\\\\\\frac{k_{t} x_{2}}{K_{t} - x_{2} + 1} - \\lambda_{t} x_{3} = 0\\end{matrix}\\right]$"
      ],
      "text/plain": [
       "Matrix([\n",
       "[Eq(-lambda_c*x_0*x_3/(K_c - x_2 + 1) + x_0**(3/4)*(1 - (x_0/C_0)**(1/4))*(k_c + mu_c*x_1), 0)],\n",
       "[                        Eq(-lambda_p*x_1 + x_1*(1 - x_1/P_0)*(k_p + mu_p*x_0/(K_p + x_0)), 0)],\n",
       "[                                      Eq(k_r - x_2*(gamma_c*x_0 + gamma_p*x_1 + lambda_r), 0)],\n",
       "[                                                Eq(k_t*x_2/(K_t - x_2 + 1) - lambda_t*x_3, 0)]])"
      ]
     },
     "metadata": {},
     "output_type": "display_data"
    }
   ],
   "source": [
    "stat_eqn = sp.Matrix([Eqn(F[i],0) for i in range(0, 4)])\n",
    "display(stat_eqn)"
   ]
  },
  {
   "cell_type": "code",
   "execution_count": null,
   "metadata": {},
   "outputs": [],
   "source": []
  },
  {
   "cell_type": "code",
   "execution_count": null,
   "metadata": {},
   "outputs": [],
   "source": [
    "\n",
    "\n",
    "\n",
    "\n",
    "\n",
    "\n",
    "\n",
    "\n",
    "\n",
    "\n",
    "\n",
    "\n"
   ]
  },
  {
   "cell_type": "code",
   "execution_count": 15,
   "metadata": {},
   "outputs": [],
   "source": [
    "# Использование предположений\n",
    "#Воспользовавшись предположениями о значениях параметров, входящих в уравнение, получим:"
   ]
  },
  {
   "cell_type": "code",
   "execution_count": 16,
   "metadata": {},
   "outputs": [],
   "source": [
    "#flatex(\"sd ${}$\", F[0])\n",
    "# display(F)\n",
    "\n",
    "# P_s = xpr(\"1.0*10**5\")*(1 - xpr(\"0.15\")/xpr(\"0.2\"))\n",
    "# exchange_dict = {\n",
    "#     P_0 : xpr(\"1.0*10**5\"),\n",
    "#     C_0 : xpr(\"1.0*10**6\"),\n",
    "#     k_c : xpr(\"7.5*10**(-2)\"),\n",
    "#     mu_c : xpr(\"20.0\")*xpr(\"7.5*10**(-2)\")/xpr(\"1.0*10**5\"),\n",
    "#     K_c : xpr(\"0.1\"),\n",
    "#     lambda_c : xpr(\"1.0*10**(-7)\"),\n",
    "#     k_p : xpr(\"0.2\"),\n",
    "#     mu_p : xpr(\"20.0*0.2\"),\n",
    "#     K_p : xpr(\"1.0*10**6\")/xpr(\"100.0\"),\n",
    "#     lambda_p : xpr(\"0.15\"),\n",
    "#     k_r : xpr(\"0.2\"),\n",
    "#     lambda_r : xpr(\"0.22\"),\n",
    "#     gamma_p : xpr(\"0.02\")*xpr(\"0.22\")/P_s,\n",
    "#     gamma_c : xpr(\"0.02\")*xpr(\"0.22\")/P_s,\n",
    "#     k_t : xpr(\"3200.0\"),\n",
    "#     K_t : xpr(\"0.1\"),\n",
    "#     lambda_t : xpr(\"0.3\")\n",
    "# }\n",
    "# F = sp.simplify(F.subs(exchange_dict))\n",
    "# display(F)"
   ]
  }
 ],
 "metadata": {
  "file_extension": ".py",
  "kernelspec": {
   "display_name": "Python 3",
   "language": "python",
   "name": "python3"
  },
  "language_info": {
   "codemirror_mode": {
    "name": "ipython",
    "version": 3
   },
   "file_extension": ".py",
   "mimetype": "text/x-python",
   "name": "python",
   "nbconvert_exporter": "python",
   "pygments_lexer": "ipython3",
   "version": "3.7.4"
  },
  "mimetype": "text/x-python",
  "name": "python",
  "npconvert_exporter": "python",
  "pygments_lexer": "ipython3",
  "version": 3
 },
 "nbformat": 4,
 "nbformat_minor": 4
}
